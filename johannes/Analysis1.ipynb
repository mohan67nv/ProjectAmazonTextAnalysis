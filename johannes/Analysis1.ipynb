{
 "cells": [
  {
   "cell_type": "code",
   "execution_count": 1,
   "metadata": {
    "collapsed": true
   },
   "outputs": [],
   "source": [
    "import os\n",
    "os.chdir('C:\\\\Users\\johannes\\ProjectAmazonTextAnalysis\\johannes')\n",
    "import pandas as pd\n",
    "import numpy as np\n",
    "\n",
    "import matplotlib.pyplot as plt\n",
    "\n",
    "plt.style.use('ggplot')"
   ]
  },
  {
   "cell_type": "code",
   "execution_count": 78,
   "metadata": {},
   "outputs": [
    {
     "data": {
      "text/html": [
       "<div>\n",
       "<table border=\"1\" class=\"dataframe\">\n",
       "  <thead>\n",
       "    <tr style=\"text-align: right;\">\n",
       "      <th></th>\n",
       "      <th>considerably</th>\n",
       "      <th>communicate</th>\n",
       "      <th>fixed</th>\n",
       "      <th>ideal</th>\n",
       "      <th>remembered</th>\n",
       "      <th>invested</th>\n",
       "      <th>distort</th>\n",
       "      <th>perspective</th>\n",
       "      <th>rom</th>\n",
       "      <th>v2</th>\n",
       "      <th>...</th>\n",
       "      <th>('a', 'more')</th>\n",
       "      <th>('for', 'over')</th>\n",
       "      <th>('to', '.')</th>\n",
       "      <th>('light', ',')</th>\n",
       "      <th>('and', 'all')</th>\n",
       "      <th>('love', 'this')</th>\n",
       "      <th>('a', 'must')</th>\n",
       "      <th>('my', 'lens')</th>\n",
       "      <th>('got', 'it')</th>\n",
       "      <th>review_lenght</th>\n",
       "    </tr>\n",
       "  </thead>\n",
       "  <tbody>\n",
       "    <tr>\n",
       "      <th>0</th>\n",
       "      <td>0</td>\n",
       "      <td>0</td>\n",
       "      <td>0</td>\n",
       "      <td>0</td>\n",
       "      <td>0</td>\n",
       "      <td>0</td>\n",
       "      <td>0</td>\n",
       "      <td>0</td>\n",
       "      <td>0</td>\n",
       "      <td>0</td>\n",
       "      <td>...</td>\n",
       "      <td>0</td>\n",
       "      <td>0</td>\n",
       "      <td>0</td>\n",
       "      <td>0</td>\n",
       "      <td>0</td>\n",
       "      <td>0</td>\n",
       "      <td>0</td>\n",
       "      <td>0</td>\n",
       "      <td>0</td>\n",
       "      <td>25</td>\n",
       "    </tr>\n",
       "    <tr>\n",
       "      <th>1</th>\n",
       "      <td>0</td>\n",
       "      <td>0</td>\n",
       "      <td>0</td>\n",
       "      <td>0</td>\n",
       "      <td>0</td>\n",
       "      <td>0</td>\n",
       "      <td>0</td>\n",
       "      <td>0</td>\n",
       "      <td>0</td>\n",
       "      <td>0</td>\n",
       "      <td>...</td>\n",
       "      <td>0</td>\n",
       "      <td>0</td>\n",
       "      <td>0</td>\n",
       "      <td>0</td>\n",
       "      <td>0</td>\n",
       "      <td>0</td>\n",
       "      <td>0</td>\n",
       "      <td>0</td>\n",
       "      <td>0</td>\n",
       "      <td>35</td>\n",
       "    </tr>\n",
       "    <tr>\n",
       "      <th>2</th>\n",
       "      <td>0</td>\n",
       "      <td>0</td>\n",
       "      <td>0</td>\n",
       "      <td>0</td>\n",
       "      <td>0</td>\n",
       "      <td>0</td>\n",
       "      <td>0</td>\n",
       "      <td>0</td>\n",
       "      <td>0</td>\n",
       "      <td>0</td>\n",
       "      <td>...</td>\n",
       "      <td>0</td>\n",
       "      <td>0</td>\n",
       "      <td>0</td>\n",
       "      <td>0</td>\n",
       "      <td>0</td>\n",
       "      <td>0</td>\n",
       "      <td>0</td>\n",
       "      <td>0</td>\n",
       "      <td>0</td>\n",
       "      <td>33</td>\n",
       "    </tr>\n",
       "    <tr>\n",
       "      <th>3</th>\n",
       "      <td>0</td>\n",
       "      <td>0</td>\n",
       "      <td>0</td>\n",
       "      <td>0</td>\n",
       "      <td>0</td>\n",
       "      <td>0</td>\n",
       "      <td>0</td>\n",
       "      <td>0</td>\n",
       "      <td>0</td>\n",
       "      <td>0</td>\n",
       "      <td>...</td>\n",
       "      <td>0</td>\n",
       "      <td>0</td>\n",
       "      <td>0</td>\n",
       "      <td>0</td>\n",
       "      <td>0</td>\n",
       "      <td>0</td>\n",
       "      <td>0</td>\n",
       "      <td>0</td>\n",
       "      <td>0</td>\n",
       "      <td>24</td>\n",
       "    </tr>\n",
       "    <tr>\n",
       "      <th>4</th>\n",
       "      <td>0</td>\n",
       "      <td>0</td>\n",
       "      <td>0</td>\n",
       "      <td>0</td>\n",
       "      <td>0</td>\n",
       "      <td>0</td>\n",
       "      <td>0</td>\n",
       "      <td>0</td>\n",
       "      <td>0</td>\n",
       "      <td>0</td>\n",
       "      <td>...</td>\n",
       "      <td>0</td>\n",
       "      <td>0</td>\n",
       "      <td>0</td>\n",
       "      <td>0</td>\n",
       "      <td>0</td>\n",
       "      <td>0</td>\n",
       "      <td>0</td>\n",
       "      <td>0</td>\n",
       "      <td>0</td>\n",
       "      <td>25</td>\n",
       "    </tr>\n",
       "  </tbody>\n",
       "</table>\n",
       "<p>5 rows × 4001 columns</p>\n",
       "</div>"
      ],
      "text/plain": [
       "<div>\n",
       "<table border=\"1\" class=\"dataframe\">\n",
       "  <thead>\n",
       "    <tr style=\"text-align: right;\">\n",
       "      <th></th>\n",
       "      <th>considerably</th>\n",
       "      <th>communicate</th>\n",
       "      <th>fixed</th>\n",
       "      <th>ideal</th>\n",
       "      <th>remembered</th>\n",
       "      <th>invested</th>\n",
       "      <th>distort</th>\n",
       "      <th>perspective</th>\n",
       "      <th>rom</th>\n",
       "      <th>v2</th>\n",
       "      <th>...</th>\n",
       "      <th>('a', 'more')</th>\n",
       "      <th>('for', 'over')</th>\n",
       "      <th>('to', '.')</th>\n",
       "      <th>('light', ',')</th>\n",
       "      <th>('and', 'all')</th>\n",
       "      <th>('love', 'this')</th>\n",
       "      <th>('a', 'must')</th>\n",
       "      <th>('my', 'lens')</th>\n",
       "      <th>('got', 'it')</th>\n",
       "      <th>review_lenght</th>\n",
       "    </tr>\n",
       "  </thead>\n",
       "  <tbody>\n",
       "    <tr>\n",
       "      <th>0</th>\n",
       "      <td>0</td>\n",
       "      <td>0</td>\n",
       "      <td>0</td>\n",
       "      <td>0</td>\n",
       "      <td>0</td>\n",
       "      <td>0</td>\n",
       "      <td>0</td>\n",
       "      <td>0</td>\n",
       "      <td>0</td>\n",
       "      <td>0</td>\n",
       "      <td>...</td>\n",
       "      <td>0</td>\n",
       "      <td>0</td>\n",
       "      <td>0</td>\n",
       "      <td>0</td>\n",
       "      <td>0</td>\n",
       "      <td>0</td>\n",
       "      <td>0</td>\n",
       "      <td>0</td>\n",
       "      <td>0</td>\n",
       "      <td>25</td>\n",
       "    </tr>\n",
       "    <tr>\n",
       "      <th>1</th>\n",
       "      <td>0</td>\n",
       "      <td>0</td>\n",
       "      <td>0</td>\n",
       "      <td>0</td>\n",
       "      <td>0</td>\n",
       "      <td>0</td>\n",
       "      <td>0</td>\n",
       "      <td>0</td>\n",
       "      <td>0</td>\n",
       "      <td>0</td>\n",
       "      <td>...</td>\n",
       "      <td>0</td>\n",
       "      <td>0</td>\n",
       "      <td>0</td>\n",
       "      <td>0</td>\n",
       "      <td>0</td>\n",
       "      <td>0</td>\n",
       "      <td>0</td>\n",
       "      <td>0</td>\n",
       "      <td>0</td>\n",
       "      <td>35</td>\n",
       "    </tr>\n",
       "    <tr>\n",
       "      <th>2</th>\n",
       "      <td>0</td>\n",
       "      <td>0</td>\n",
       "      <td>0</td>\n",
       "      <td>0</td>\n",
       "      <td>0</td>\n",
       "      <td>0</td>\n",
       "      <td>0</td>\n",
       "      <td>0</td>\n",
       "      <td>0</td>\n",
       "      <td>0</td>\n",
       "      <td>...</td>\n",
       "      <td>0</td>\n",
       "      <td>0</td>\n",
       "      <td>0</td>\n",
       "      <td>0</td>\n",
       "      <td>0</td>\n",
       "      <td>0</td>\n",
       "      <td>0</td>\n",
       "      <td>0</td>\n",
       "      <td>0</td>\n",
       "      <td>33</td>\n",
       "    </tr>\n",
       "    <tr>\n",
       "      <th>3</th>\n",
       "      <td>0</td>\n",
       "      <td>0</td>\n",
       "      <td>0</td>\n",
       "      <td>0</td>\n",
       "      <td>0</td>\n",
       "      <td>0</td>\n",
       "      <td>0</td>\n",
       "      <td>0</td>\n",
       "      <td>0</td>\n",
       "      <td>0</td>\n",
       "      <td>...</td>\n",
       "      <td>0</td>\n",
       "      <td>0</td>\n",
       "      <td>0</td>\n",
       "      <td>0</td>\n",
       "      <td>0</td>\n",
       "      <td>0</td>\n",
       "      <td>0</td>\n",
       "      <td>0</td>\n",
       "      <td>0</td>\n",
       "      <td>24</td>\n",
       "    </tr>\n",
       "    <tr>\n",
       "      <th>4</th>\n",
       "      <td>0</td>\n",
       "      <td>0</td>\n",
       "      <td>0</td>\n",
       "      <td>0</td>\n",
       "      <td>0</td>\n",
       "      <td>0</td>\n",
       "      <td>0</td>\n",
       "      <td>0</td>\n",
       "      <td>0</td>\n",
       "      <td>0</td>\n",
       "      <td>...</td>\n",
       "      <td>0</td>\n",
       "      <td>0</td>\n",
       "      <td>0</td>\n",
       "      <td>0</td>\n",
       "      <td>0</td>\n",
       "      <td>0</td>\n",
       "      <td>0</td>\n",
       "      <td>0</td>\n",
       "      <td>0</td>\n",
       "      <td>25</td>\n",
       "    </tr>\n",
       "  </tbody>\n",
       "</table>\n",
       "<p>5 rows × 4001 columns</p>\n",
       "</div>"
      ]
     },
     "execution_count": 78,
     "metadata": {},
     "output_type": "execute_result"
    }
   ],
   "source": [
    "X_train = pd.read_pickle('X_train.pkl')\n",
    "X_test = pd.read_pickle('X_test.pkl')\n",
    "y_train = pd.read_pickle('y_train.pkl')\n",
    "y_test = pd.read_pickle('y_test.pkl')\n",
    "\n",
    "\n",
    "X_train.head()"
   ]
  },
  {
   "cell_type": "code",
   "execution_count": 5,
   "metadata": {},
   "outputs": [
    {
     "data": {
      "image/png": "[encoded data removed]",
      "text/plain": [
       "<matplotlib.figure.Figure at 0x2075f5915c0>"
      ]
     },
     "metadata": {},
     "output_type": "display_data"
    }
   ],
   "source": [
    "fig, ax = plt.subplots(2, sharex = True)\n",
    "ax[0].hist(y_train)\n",
    "ax[0].set_title('y_train')\n",
    "\n",
    "ax[1].hist(y_test)\n",
    "ax[1].set_title('y_test')\n",
    "plt.show()"
   ]
  },
  {
   "cell_type": "code",
   "execution_count": 22,
   "metadata": {
    "collapsed": false
   },
   "outputs": [],
   "source": [
    "# from ggplot import *\n",
    "# g = ggplot(aes(x = 'review_labels'), data =  pd.DataFrame(y_test))\n",
    "# g + geom_histogram()"
   ]
  },
  {
   "cell_type": "code",
   "execution_count": 79,
   "metadata": {},
   "outputs": [],
   "source": [
    "full_train_dataset = pd.concat([X_train, y_train], axis = 1)\n",
    "full_train_dataset.dropna(inplace = True)\n",
    "\n",
    "full_test_dataset = pd.concat([X_test, y_test], axis = 1)\n",
    "full_test_dataset.dropna(inplace = True)\n",
    "\n",
    "y_train = full_train_dataset['review_labels']\n",
    "X_train = full_train_dataset.drop('review_labels', axis = 1)\n",
    "\n",
    "y_test = full_test_dataset['review_labels']\n",
    "X_test = full_test_dataset.drop('review_labels', axis = 1)"
   ]
  },
  {
   "cell_type": "code",
   "execution_count": 24,
   "metadata": {},
   "outputs": [
    {
     "data": {
      "image/png": "[encoded data removed]",
      "text/plain": [
       "<matplotlib.figure.Figure at 0x2070009b668>"
      ]
     },
     "metadata": {},
     "output_type": "display_data"
    }
   ],
   "source": [
    "fig, ax = plt.subplots(2, sharex = True)\n",
    "ax[0].hist(y_train)\n",
    "ax[0].set_title('y_train')\n",
    "\n",
    "ax[1].hist(y_test)\n",
    "ax[1].set_title('y_test')\n",
    "plt.show()"
   ]
  },
  {
   "cell_type": "code",
   "execution_count": 25,
   "metadata": {
    "collapsed": false
   },
   "outputs": [],
   "source": [
    "# from pandas.tools.plotting import radviz\n",
    "# plt.figure()\n",
    "# radviz(full_train_dataset, 'review_labels')\n",
    "# plt.show()"
   ]
  },
  {
   "cell_type": "code",
   "execution_count": 26,
   "metadata": {
    "collapsed": true
   },
   "outputs": [
    {
     "data": {
      "image/png": "[encoded data removed]",
      "text/plain": [
       "<matplotlib.figure.Figure at 0x2070007df28>"
      ]
     },
     "metadata": {},
     "output_type": "display_data"
    }
   ],
   "source": [
    "plt.hist(X_train.drop('review_lenght', axis = 1).sum(), bins=100)\n",
    "plt.title('Word frequency overview')\n",
    "# plt.xlim(15000,20000)\n",
    "plt.show()"
   ]
  },
  {
   "cell_type": "code",
   "execution_count": 27,
   "metadata": {},
   "outputs": [
    {
     "data": {
      "text/plain": [
       "this          14967.0\nthat          12232.0\nin            12114.0\nwith          11534.0\n('.', 'i')     9738.0\nhave           9636.0\nnot            7722.0\nn't            7377.0\n)              7059.0\ndtype: float64"
      ]
     },
     "execution_count": 27,
     "metadata": {},
     "output_type": "execute_result"
    }
   ],
   "source": [
    "# Total word representation\n",
    "X_train.sum().sort_values(ascending=False)[1:10]"
   ]
  },
  {
   "cell_type": "code",
   "execution_count": 28,
   "metadata": {},
   "outputs": [
    {
     "data": {
      "text/plain": [
       "review_lenght    118.887484\nthis               1.332295\nthat               1.088837\nin                 1.078334\nwith               1.026705\n('.', 'i')         0.866833\nhave               0.857753\nnot                0.687378\nn't                0.656667\n)                  0.628360\ndtype: float64"
      ]
     },
     "execution_count": 28,
     "metadata": {},
     "output_type": "execute_result"
    }
   ],
   "source": [
    "# Look at the average word representation\n",
    "X_train.mean().sort_values(ascending=False)[0:10]"
   ]
  },
  {
   "cell_type": "code",
   "execution_count": 29,
   "metadata": {
    "collapsed": false
   },
   "outputs": [
    {
     "data": {
      "text/plain": [
       "review_labels\n1.0    120.940678\n2.0    108.632159\n3.0    113.620767\n4.0    119.357264\n5.0    119.896482\nName: review_lenght, dtype: float64"
      ]
     },
     "execution_count": 29,
     "metadata": {},
     "output_type": "execute_result"
    }
   ],
   "source": [
    "# Checking the lenght of reviews variable in connection with product score. \n",
    "grp = full_train_dataset.groupby('review_labels')\n",
    "grp_mean = grp.mean().review_lenght\n",
    "grp_mean"
   ]
  },
  {
   "cell_type": "code",
   "execution_count": 15,
   "metadata": {
    "collapsed": false
   },
   "outputs": [
    {
     "data": {
      "text/plain": [
       "review_labels\n1.0     590\n2.0     454\n3.0     886\n4.0    2368\n5.0    6936\ndtype: int64"
      ]
     },
     "execution_count": 15,
     "metadata": {},
     "output_type": "execute_result"
    }
   ],
   "source": [
    "# Score distribution\n",
    "grp = full_train_dataset.groupby('review_labels').size()\n",
    "grp"
   ]
  },
  {
   "cell_type": "code",
   "execution_count": 31,
   "metadata": {},
   "outputs": [],
   "source": [
    "# Checking the frequency of words in connection with score\n",
    "# grp = full_train_dataset.groupby('review_labels')\n",
    "# for i in range(5):\n",
    "#     grp.get_group(i)"
   ]
  },
  {
   "cell_type": "code",
   "execution_count": 33,
   "metadata": {
    "collapsed": false
   },
   "outputs": [
    {
     "name": "stdout",
     "output_type": "stream",
     "text": [
      "(11234, 3043)\n"
     ]
    },
    {
     "data": {
      "text/html": [
       "<div>\n",
       "<table border=\"1\" class=\"dataframe\">\n",
       "  <thead>\n",
       "    <tr style=\"text-align: right;\">\n",
       "      <th></th>\n",
       "      <th>considerably</th>\n",
       "      <th>communicate</th>\n",
       "      <th>fixed</th>\n",
       "      <th>ideal</th>\n",
       "      <th>invested</th>\n",
       "      <th>distort</th>\n",
       "      <th>perspective</th>\n",
       "      <th>rom</th>\n",
       "      <th>counts</th>\n",
       "      <th>recycle</th>\n",
       "      <th>...</th>\n",
       "      <th>('my', 'head')</th>\n",
       "      <th>('a', 'more')</th>\n",
       "      <th>('for', 'over')</th>\n",
       "      <th>('to', '.')</th>\n",
       "      <th>('light', ',')</th>\n",
       "      <th>('and', 'all')</th>\n",
       "      <th>('love', 'this')</th>\n",
       "      <th>('a', 'must')</th>\n",
       "      <th>('my', 'lens')</th>\n",
       "      <th>('got', 'it')</th>\n",
       "    </tr>\n",
       "  </thead>\n",
       "  <tbody>\n",
       "    <tr>\n",
       "      <th>0</th>\n",
       "      <td>0.0</td>\n",
       "      <td>0.0</td>\n",
       "      <td>0.0</td>\n",
       "      <td>0.0</td>\n",
       "      <td>0.0</td>\n",
       "      <td>0.0</td>\n",
       "      <td>0.0</td>\n",
       "      <td>0.0</td>\n",
       "      <td>0.0</td>\n",
       "      <td>0.0</td>\n",
       "      <td>...</td>\n",
       "      <td>0.0</td>\n",
       "      <td>0.0</td>\n",
       "      <td>0.0</td>\n",
       "      <td>0.0</td>\n",
       "      <td>0.0</td>\n",
       "      <td>0.0</td>\n",
       "      <td>0.0</td>\n",
       "      <td>0.0</td>\n",
       "      <td>0.0</td>\n",
       "      <td>0.0</td>\n",
       "    </tr>\n",
       "    <tr>\n",
       "      <th>1</th>\n",
       "      <td>0.0</td>\n",
       "      <td>0.0</td>\n",
       "      <td>0.0</td>\n",
       "      <td>0.0</td>\n",
       "      <td>0.0</td>\n",
       "      <td>0.0</td>\n",
       "      <td>0.0</td>\n",
       "      <td>0.0</td>\n",
       "      <td>0.0</td>\n",
       "      <td>0.0</td>\n",
       "      <td>...</td>\n",
       "      <td>0.0</td>\n",
       "      <td>0.0</td>\n",
       "      <td>0.0</td>\n",
       "      <td>0.0</td>\n",
       "      <td>0.0</td>\n",
       "      <td>0.0</td>\n",
       "      <td>0.0</td>\n",
       "      <td>0.0</td>\n",
       "      <td>0.0</td>\n",
       "      <td>0.0</td>\n",
       "    </tr>\n",
       "    <tr>\n",
       "      <th>2</th>\n",
       "      <td>0.0</td>\n",
       "      <td>0.0</td>\n",
       "      <td>0.0</td>\n",
       "      <td>0.0</td>\n",
       "      <td>0.0</td>\n",
       "      <td>0.0</td>\n",
       "      <td>0.0</td>\n",
       "      <td>0.0</td>\n",
       "      <td>0.0</td>\n",
       "      <td>0.0</td>\n",
       "      <td>...</td>\n",
       "      <td>0.0</td>\n",
       "      <td>0.0</td>\n",
       "      <td>0.0</td>\n",
       "      <td>0.0</td>\n",
       "      <td>0.0</td>\n",
       "      <td>0.0</td>\n",
       "      <td>0.0</td>\n",
       "      <td>0.0</td>\n",
       "      <td>0.0</td>\n",
       "      <td>0.0</td>\n",
       "    </tr>\n",
       "    <tr>\n",
       "      <th>4</th>\n",
       "      <td>0.0</td>\n",
       "      <td>0.0</td>\n",
       "      <td>0.0</td>\n",
       "      <td>0.0</td>\n",
       "      <td>0.0</td>\n",
       "      <td>0.0</td>\n",
       "      <td>0.0</td>\n",
       "      <td>0.0</td>\n",
       "      <td>0.0</td>\n",
       "      <td>0.0</td>\n",
       "      <td>...</td>\n",
       "      <td>0.0</td>\n",
       "      <td>0.0</td>\n",
       "      <td>0.0</td>\n",
       "      <td>0.0</td>\n",
       "      <td>0.0</td>\n",
       "      <td>0.0</td>\n",
       "      <td>0.0</td>\n",
       "      <td>0.0</td>\n",
       "      <td>0.0</td>\n",
       "      <td>0.0</td>\n",
       "    </tr>\n",
       "    <tr>\n",
       "      <th>5</th>\n",
       "      <td>0.0</td>\n",
       "      <td>0.0</td>\n",
       "      <td>0.0</td>\n",
       "      <td>0.0</td>\n",
       "      <td>0.0</td>\n",
       "      <td>0.0</td>\n",
       "      <td>0.0</td>\n",
       "      <td>0.0</td>\n",
       "      <td>0.0</td>\n",
       "      <td>0.0</td>\n",
       "      <td>...</td>\n",
       "      <td>0.0</td>\n",
       "      <td>0.0</td>\n",
       "      <td>0.0</td>\n",
       "      <td>0.0</td>\n",
       "      <td>0.0</td>\n",
       "      <td>0.0</td>\n",
       "      <td>0.0</td>\n",
       "      <td>0.0</td>\n",
       "      <td>0.0</td>\n",
       "      <td>0.0</td>\n",
       "    </tr>\n",
       "  </tbody>\n",
       "</table>\n",
       "<p>5 rows × 3043 columns</p>\n",
       "</div>"
      ],
      "text/plain": [
       "<div>\n",
       "<table border=\"1\" class=\"dataframe\">\n",
       "  <thead>\n",
       "    <tr style=\"text-align: right;\">\n",
       "      <th></th>\n",
       "      <th>considerably</th>\n",
       "      <th>communicate</th>\n",
       "      <th>fixed</th>\n",
       "      <th>ideal</th>\n",
       "      <th>invested</th>\n",
       "      <th>distort</th>\n",
       "      <th>perspective</th>\n",
       "      <th>rom</th>\n",
       "      <th>counts</th>\n",
       "      <th>recycle</th>\n",
       "      <th>...</th>\n",
       "      <th>('my', 'head')</th>\n",
       "      <th>('a', 'more')</th>\n",
       "      <th>('for', 'over')</th>\n",
       "      <th>('to', '.')</th>\n",
       "      <th>('light', ',')</th>\n",
       "      <th>('and', 'all')</th>\n",
       "      <th>('love', 'this')</th>\n",
       "      <th>('a', 'must')</th>\n",
       "      <th>('my', 'lens')</th>\n",
       "      <th>('got', 'it')</th>\n",
       "    </tr>\n",
       "  </thead>\n",
       "  <tbody>\n",
       "    <tr>\n",
       "      <th>0</th>\n",
       "      <td>0.0</td>\n",
       "      <td>0.0</td>\n",
       "      <td>0.0</td>\n",
       "      <td>0.0</td>\n",
       "      <td>0.0</td>\n",
       "      <td>0.0</td>\n",
       "      <td>0.0</td>\n",
       "      <td>0.0</td>\n",
       "      <td>0.0</td>\n",
       "      <td>0.0</td>\n",
       "      <td>...</td>\n",
       "      <td>0.0</td>\n",
       "      <td>0.0</td>\n",
       "      <td>0.0</td>\n",
       "      <td>0.0</td>\n",
       "      <td>0.0</td>\n",
       "      <td>0.0</td>\n",
       "      <td>0.0</td>\n",
       "      <td>0.0</td>\n",
       "      <td>0.0</td>\n",
       "      <td>0.0</td>\n",
       "    </tr>\n",
       "    <tr>\n",
       "      <th>1</th>\n",
       "      <td>0.0</td>\n",
       "      <td>0.0</td>\n",
       "      <td>0.0</td>\n",
       "      <td>0.0</td>\n",
       "      <td>0.0</td>\n",
       "      <td>0.0</td>\n",
       "      <td>0.0</td>\n",
       "      <td>0.0</td>\n",
       "      <td>0.0</td>\n",
       "      <td>0.0</td>\n",
       "      <td>...</td>\n",
       "      <td>0.0</td>\n",
       "      <td>0.0</td>\n",
       "      <td>0.0</td>\n",
       "      <td>0.0</td>\n",
       "      <td>0.0</td>\n",
       "      <td>0.0</td>\n",
       "      <td>0.0</td>\n",
       "      <td>0.0</td>\n",
       "      <td>0.0</td>\n",
       "      <td>0.0</td>\n",
       "    </tr>\n",
       "    <tr>\n",
       "      <th>2</th>\n",
       "      <td>0.0</td>\n",
       "      <td>0.0</td>\n",
       "      <td>0.0</td>\n",
       "      <td>0.0</td>\n",
       "      <td>0.0</td>\n",
       "      <td>0.0</td>\n",
       "      <td>0.0</td>\n",
       "      <td>0.0</td>\n",
       "      <td>0.0</td>\n",
       "      <td>0.0</td>\n",
       "      <td>...</td>\n",
       "      <td>0.0</td>\n",
       "      <td>0.0</td>\n",
       "      <td>0.0</td>\n",
       "      <td>0.0</td>\n",
       "      <td>0.0</td>\n",
       "      <td>0.0</td>\n",
       "      <td>0.0</td>\n",
       "      <td>0.0</td>\n",
       "      <td>0.0</td>\n",
       "      <td>0.0</td>\n",
       "    </tr>\n",
       "    <tr>\n",
       "      <th>4</th>\n",
       "      <td>0.0</td>\n",
       "      <td>0.0</td>\n",
       "      <td>0.0</td>\n",
       "      <td>0.0</td>\n",
       "      <td>0.0</td>\n",
       "      <td>0.0</td>\n",
       "      <td>0.0</td>\n",
       "      <td>0.0</td>\n",
       "      <td>0.0</td>\n",
       "      <td>0.0</td>\n",
       "      <td>...</td>\n",
       "      <td>0.0</td>\n",
       "      <td>0.0</td>\n",
       "      <td>0.0</td>\n",
       "      <td>0.0</td>\n",
       "      <td>0.0</td>\n",
       "      <td>0.0</td>\n",
       "      <td>0.0</td>\n",
       "      <td>0.0</td>\n",
       "      <td>0.0</td>\n",
       "      <td>0.0</td>\n",
       "    </tr>\n",
       "    <tr>\n",
       "      <th>5</th>\n",
       "      <td>0.0</td>\n",
       "      <td>0.0</td>\n",
       "      <td>0.0</td>\n",
       "      <td>0.0</td>\n",
       "      <td>0.0</td>\n",
       "      <td>0.0</td>\n",
       "      <td>0.0</td>\n",
       "      <td>0.0</td>\n",
       "      <td>0.0</td>\n",
       "      <td>0.0</td>\n",
       "      <td>...</td>\n",
       "      <td>0.0</td>\n",
       "      <td>0.0</td>\n",
       "      <td>0.0</td>\n",
       "      <td>0.0</td>\n",
       "      <td>0.0</td>\n",
       "      <td>0.0</td>\n",
       "      <td>0.0</td>\n",
       "      <td>0.0</td>\n",
       "      <td>0.0</td>\n",
       "      <td>0.0</td>\n",
       "    </tr>\n",
       "  </tbody>\n",
       "</table>\n",
       "<p>5 rows × 3043 columns</p>\n",
       "</div>"
      ]
     },
     "execution_count": 33,
     "metadata": {},
     "output_type": "execute_result"
    }
   ],
   "source": [
    "def good_text_frequency(df = X_train, upper_limit = 0.1, lower_limit = 0.001):    \n",
    "    tokens = df.columns.values[:-1]\n",
    "    indicators = df.iloc[:,:-1].apply(lambda x: x > 0)\n",
    "    bool = [lower_limit < value < upper_limit for value in indicators.mean().values]\n",
    "    good_tokens = tokens[bool]\n",
    "    token_df = df[good_tokens]\n",
    "    non_tokens = df.iloc[:,-1:].columns.values\n",
    "    # token_df[non_tokens] = df.iloc[:,-1:].values\n",
    "    df = token_df\n",
    "    return df\n",
    "tokens = good_text_frequency()\n",
    "print(tokens.shape)\n",
    "tokens.head()"
   ]
  },
  {
   "cell_type": "code",
   "execution_count": 36,
   "metadata": {},
   "outputs": [
    {
     "data": {
      "text/plain": [
       "['without',\n 'we',\n \"('in', 'a')\",\n \"('on', 'my')\",\n 'should',\n \"(')', ',')\",\n \"('the', 'same')\",\n \"('it', 'does')\",\n \"('from', 'the')\",\n 'router',\n 'before',\n \"('i', 'use')\",\n \"'ll\",\n \"('it', 'to')\",\n 'found',\n '(\\'does\\', \"n\\'t\")',\n \"('a', 'few')\"]"
      ]
     },
     "execution_count": 36,
     "metadata": {},
     "output_type": "execute_result"
    }
   ],
   "source": [
    "# Checking which words that are regular in the 5-star ratings but not regular in the one star ratings. \n",
    "grp = pd.concat((tokens, y_train), axis =1).groupby('review_labels')\n",
    "common_5_star_words = grp.get_group(5).sum().sort_values(ascending=False)[:100].index\n",
    "common_1_star_words = grp.get_group(1).sum().sort_values(ascending=False)[:100].index\n",
    "\n",
    "uncommon = [word for word in common_5_star_words if not word in common_1_star_words]\n",
    "uncommon"
   ]
  },
  {
   "cell_type": "code",
   "execution_count": 38,
   "metadata": {
    "collapsed": false
   },
   "outputs": [
    {
     "name": "stdout",
     "output_type": "stream",
     "text": [
      "(1930, 3044)\n"
     ]
    },
    {
     "data": {
      "text/plain": [
       "review_labels    4156.0\n&                 453.0\nheadphones        378.0\n-                 351.0\n''                267.0\nthen              244.0\n``                238.0\npower             223.0\n('but', 'i')      223.0\ncomputer          222.0\ndtype: float64"
      ]
     },
     "execution_count": 38,
     "metadata": {},
     "output_type": "execute_result"
    }
   ],
   "source": [
    "# Combining 1, 2 and 3 star as one group\n",
    "grp = pd.concat((tokens, y_train), axis =1).groupby('review_labels')\n",
    "bad_grp = pd.concat((grp.get_group(1),grp.get_group(2),grp.get_group(3)), axis = 0)\n",
    "print(bad_grp.shape)\n",
    "\n",
    "bad_grp.sum().sort_values(ascending=False)[:10]"
   ]
  },
  {
   "cell_type": "code",
   "execution_count": 288,
   "metadata": {
    "collapsed": false
   },
   "outputs": [
    {
     "name": "stdout",
     "output_type": "stream",
     "text": [
      "(8987, 3043) (2247, 3043) (8987,) (2247,)\n"
     ]
    }
   ],
   "source": [
    "# Splitting the data\n",
    "\n",
    "X = tokens\n",
    "y = y_train.values\n",
    "\n",
    "X_len = X.shape[0]\n",
    "train_index = np.random.choice(np.arange(X_len),size = int(0.8*X_len), replace=False)\n",
    "test_index = [value for value in np.arange(X_len) if value not in train_index]\n",
    "\n",
    "_X_train, _X_test, _y_train, _y_test = X.iloc[train_index,:], X.iloc[test_index, :], y[train_index], y[test_index]\n",
    "# X_train, X_test, y_train, y_test = train_test_split(X, y)\n",
    "print(_X_train.shape, _X_test.shape, _y_train.shape, _y_test.shape)\n",
    "\n",
    "_y_test = np.array([int(i) for i in _y_test])\n",
    "_y_train = np.array([int(i) for i in _y_train])"
   ]
  },
  {
   "cell_type": "code",
   "execution_count": 289,
   "metadata": {
    "collapsed": false
   },
   "outputs": [
    {
     "name": "stdout",
     "output_type": "stream",
     "text": [
      "Accuracy: 0.580329327993\nMSE: 1.67111704495\n"
     ]
    }
   ],
   "source": [
    "# Models\n",
    "from sklearn.linear_model import LogisticRegression\n",
    "from sklearn.ensemble import RandomForestClassifier\n",
    "from sklearn.ensemble import AdaBoostClassifier\n",
    "# Preprocessing\n",
    "from sklearn.preprocessing import MinMaxScaler\n",
    "from sklearn.preprocessing import StandardScaler\n",
    "# Model tuning\n",
    "from sklearn.pipeline import Pipeline\n",
    "from sklearn.model_selection import GridSearchCV\n",
    "from sklearn.model_selection import learning_curve\n",
    "# Dimentionality reduction\n",
    "from sklearn.decomposition import PCA\n",
    "# Performance metrics\n",
    "from sklearn.metrics import confusion_matrix\n",
    "\n",
    "\n",
    "pipe = Pipeline([('scale', MinMaxScaler()), ('clf', LogisticRegression())])\n",
    "\n",
    "pipe.fit(_X_train, _y_train)\n",
    "pred = pipe.predict(_X_test)\n",
    "acc = np.mean(pred == _y_test)\n",
    "mse = np.mean((pred - _y_test)**2)\n",
    "\n",
    "print('Accuracy:', acc)\n",
    "print('MSE:', mse)"
   ]
  },
  {
   "cell_type": "code",
   "execution_count": 290,
   "metadata": {
    "collapsed": false
   },
   "outputs": [
    {
     "data": {
      "image/png": "[encoded data removed]",
      "text/plain": [
       "<matplotlib.figure.Figure at 0x207049b8c18>"
      ]
     },
     "metadata": {},
     "output_type": "display_data"
    }
   ],
   "source": [
    "import seaborn as sn\n",
    "\n",
    "classes = ['1','2','3','4','5']\n",
    "cm = np.array(confusion_matrix(_y_test, pred))\n",
    "\n",
    "def plot_confusion(confusion_matrix=cm, classes = ['1','2','3','4','5']):\n",
    "    def add_sums(confusion_matrix):\n",
    "        vertical_sum = np.array([np.sum(confusion_matrix, axis = 0)])\n",
    "        horizontal_sum = np.sum(confusion_matrix, axis = 1)\n",
    "        total_sum = np.sum(vertical_sum)\n",
    "        \n",
    "        horizontal_sum = np.array([np.append(horizontal_sum, total_sum)])\n",
    "        confusion_matrix = np.concatenate((confusion_matrix, vertical_sum), axis = 0)\n",
    "        confusion_matrix = np.concatenate((confusion_matrix, horizontal_sum.T), axis = 1)\n",
    "        return confusion_matrix\n",
    "        \n",
    "    index = ['True'+' '+ i for i in classes] + ['Sum']\n",
    "    columns = ['Predicted'+' '+i for i in classes] + ['Sum']\n",
    "    \n",
    "    df_cm = pd.DataFrame(add_sums(confusion_matrix), index = index,\n",
    "                      columns = columns)\n",
    "    sn.heatmap(df_cm, annot=True, fmt = 'd', linewidths=0.5)\n",
    "    plt.show()\n",
    "plot_confusion()"
   ]
  },
  {
   "cell_type": "code",
   "execution_count": 291,
   "metadata": {},
   "outputs": [
    {
     "data": {
      "image/png": "[encoded data removed]",
      "text/plain": [
       "<matplotlib.figure.Figure at 0x207000888d0>"
      ]
     },
     "metadata": {},
     "output_type": "display_data"
    },
    {
     "name": "stdout",
     "output_type": "stream",
     "text": [
      "P(1): 0.0462839341344\nP(2): 0.0436137071651\nP(3): 0.074321317312\nP(4): 0.215398308856\nP(5): 0.620382732532\n"
     ]
    }
   ],
   "source": [
    "# Checking the score distribution\n",
    "def add_sums(confusion_matrix = cm):\n",
    "        vertical_sum = np.array([np.sum(confusion_matrix, axis = 0)])\n",
    "        horizontal_sum = np.sum(confusion_matrix, axis = 1)\n",
    "        total_sum = np.sum(vertical_sum)\n",
    "        \n",
    "        horizontal_sum = np.array([np.append(horizontal_sum, total_sum)])\n",
    "        confusion_matrix = np.concatenate((confusion_matrix, vertical_sum), axis = 0)\n",
    "        confusion_matrix = np.concatenate((confusion_matrix, horizontal_sum.T), axis = 1)\n",
    "        return confusion_matrix\n",
    "sums = add_sums()[:,-1]\n",
    "\n",
    "score_distribution= [i/sums[-1] for i in sums][:-1]\n",
    "\n",
    "sn.barplot(x = [1,2,3,4,5], y = score_distribution)\n",
    "plt.title('Score distribution')\n",
    "plt.show()\n",
    "for i in range(len(score_distribution)):\n",
    "    print('P('+str(i+1)+'):', score_distribution[i])"
   ]
  },
  {
   "cell_type": "code",
   "execution_count": 292,
   "metadata": {},
   "outputs": [
    {
     "ename": "TypeError",
     "evalue": "Expected sequence or array-like, got estimator        considerably  communicate  fixed  ideal  invested  distort  \\\n7723            0.0          0.0    0.0    0.0       0.0      0.0   \n14424           0.0          0.0    0.0    0.0       0.0      0.0   \n972             0.0          0.0    0.0    0.0       0.0      0.0   \n377             0.0          0.0    0.0    0.0       0.0      0.0   \n2895            0.0          0.0    0.0    0.0       0.0      0.0   \n3220            0.0          0.0    0.0    0.0       0.0      0.0   \n11581           0.0          0.0    0.0    0.0       0.0      0.0   \n1080            0.0          0.0    0.0    0.0       0.0      0.0   \n7002            0.0          0.0    0.0    0.0       0.0      0.0   \n6871            0.0          0.0    0.0    0.0       0.0      0.0   \n10930           0.0          0.0    0.0    0.0       0.0      0.0   \n11101           0.0          0.0    0.0    0.0       0.0      0.0   \n7907            0.0          0.0    0.0    0.0       0.0      0.0   \n5025            0.0          0.0    0.0    0.0       0.0      0.0   \n13715           0.0          0.0    0.0    0.0       0.0      0.0   \n7324            0.0          0.0    0.0    0.0       0.0      0.0   \n7851            0.0          0.0    0.0    0.0       0.0      0.0   \n5373            0.0          0.0    0.0    0.0       0.0      0.0   \n12244           0.0          0.0    0.0    0.0       0.0      0.0   \n13110           0.0          0.0    0.0    0.0       0.0      0.0   \n14300           0.0          0.0    0.0    0.0       0.0      0.0   \n11748           0.0          0.0    0.0    0.0       0.0      0.0   \n4091            0.0          0.0    0.0    0.0       0.0      0.0   \n9931            0.0          0.0    0.0    0.0       0.0      0.0   \n1300            0.0          0.0    0.0    0.0       0.0      0.0   \n5694            0.0          0.0    0.0    0.0       0.0      0.0   \n9593            0.0          0.0    0.0    0.0       0.0      0.0   \n14975           0.0          0.0    0.0    0.0       0.0      0.0   \n4508            0.0          0.0    0.0    0.0       0.0      0.0   \n6114            0.0          0.0    0.0    0.0       0.0      0.0   \n...             ...          ...    ...    ...       ...      ...   \n8215            0.0          0.0    0.0    0.0       0.0      0.0   \n4548            0.0          0.0    0.0    0.0       0.0      0.0   \n169             0.0          0.0    0.0    0.0       0.0      0.0   \n4309            0.0          0.0    0.0    0.0       0.0      0.0   \n1568            0.0          0.0    0.0    0.0       0.0      0.0   \n12882           0.0          0.0    0.0    0.0       0.0      0.0   \n11370           0.0          0.0    0.0    0.0       0.0      0.0   \n1034            0.0          0.0    0.0    0.0       0.0      0.0   \n8834            0.0          0.0    0.0    0.0       0.0      0.0   \n8970            0.0          0.0    0.0    0.0       0.0      0.0   \n3850            0.0          0.0    0.0    0.0       0.0      0.0   \n9268            0.0          0.0    0.0    0.0       0.0      0.0   \n13170           0.0          0.0    0.0    0.0       0.0      0.0   \n8157            0.0          0.0    0.0    0.0       0.0      0.0   \n12956           0.0          0.0    0.0    0.0       0.0      0.0   \n7624            0.0          0.0    0.0    0.0       0.0      0.0   \n5487            0.0          0.0    0.0    0.0       0.0      0.0   \n4192            0.0          0.0    0.0    0.0       0.0      0.0   \n11175           0.0          0.0    0.0    0.0       0.0      0.0   \n13124           0.0          0.0    0.0    0.0       0.0      0.0   \n5474            0.0          0.0    0.0    0.0       0.0      0.0   \n7975            0.0          0.0    0.0    0.0       0.0      0.0   \n9500            0.0          0.0    0.0    0.0       0.0      0.0   \n2830            0.0          0.0    0.0    0.0       0.0      0.0   \n14890           0.0          0.0    0.0    0.0       0.0      0.0   \n7226            0.0          0.0    0.0    0.0       0.0      0.0   \n4071            0.0          0.0    0.0    0.0       0.0      0.0   \n4100            0.0          0.0    0.0    0.0       0.0      0.0   \n7414            0.0          0.0    0.0    0.0       0.0      0.0   \n9002            0.0          0.0    0.0    0.0       0.0      0.0   \n\n       perspective  rom  counts  recycle      ...        ('my', 'head')  \\\n7723           0.0  0.0     0.0      0.0      ...                   0.0   \n14424          0.0  0.0     0.0      0.0      ...                   0.0   \n972            0.0  0.0     0.0      0.0      ...                   0.0   \n377            0.0  0.0     0.0      0.0      ...                   0.0   \n2895           0.0  0.0     0.0      0.0      ...                   0.0   \n3220           0.0  0.0     0.0      0.0      ...                   0.0   \n11581          0.0  0.0     0.0      0.0      ...                   0.0   \n1080           0.0  0.0     0.0      0.0      ...                   0.0   \n7002           0.0  0.0     0.0      0.0      ...                   0.0   \n6871           0.0  0.0     0.0      0.0      ...                   0.0   \n10930          0.0  0.0     0.0      0.0      ...                   0.0   \n11101          0.0  0.0     0.0      0.0      ...                   0.0   \n7907           0.0  0.0     0.0      0.0      ...                   0.0   \n5025           0.0  0.0     0.0      0.0      ...                   0.0   \n13715          0.0  0.0     0.0      0.0      ...                   0.0   \n7324           0.0  0.0     0.0      0.0      ...                   0.0   \n7851           0.0  0.0     0.0      0.0      ...                   0.0   \n5373           0.0  0.0     0.0      0.0      ...                   0.0   \n12244          0.0  0.0     0.0      0.0      ...                   0.0   \n13110          0.0  0.0     0.0      0.0      ...                   0.0   \n14300          0.0  0.0     0.0      0.0      ...                   0.0   \n11748          0.0  0.0     0.0      0.0      ...                   0.0   \n4091           0.0  0.0     0.0      0.0      ...                   0.0   \n9931           0.0  0.0     0.0      0.0      ...                   0.0   \n1300           0.0  0.0     0.0      0.0      ...                   0.0   \n5694           0.0  0.0     0.0      0.0      ...                   0.0   \n9593           0.0  0.0     0.0      0.0      ...                   0.0   \n14975          0.0  0.0     0.0      0.0      ...                   0.0   \n4508           0.0  0.0     0.0      0.0      ...                   0.0   \n6114           0.0  0.0     0.0      0.0      ...                   0.0   \n...            ...  ...     ...      ...      ...                   ...   \n8215           0.0  0.0     0.0      0.0      ...                   0.0   \n4548           0.0  0.0     0.0      0.0      ...                   0.0   \n169            0.0  0.0     0.0      0.0      ...                   0.0   \n4309           0.0  0.0     0.0      0.0      ...                   0.0   \n1568           0.0  0.0     0.0      0.0      ...                   0.0   \n12882          0.0  0.0     0.0      0.0      ...                   0.0   \n11370          0.0  0.0     0.0      0.0      ...                   0.0   \n1034           0.0  0.0     0.0      0.0      ...                   0.0   \n8834           0.0  0.0     0.0      0.0      ...                   0.0   \n8970           0.0  0.0     0.0      0.0      ...                   0.0   \n3850           0.0  0.0     0.0      0.0      ...                   0.0   \n9268           0.0  0.0     0.0      0.0      ...                   0.0   \n13170          0.0  0.0     0.0      0.0      ...                   0.0   \n8157           0.0  0.0     0.0      0.0      ...                   0.0   \n12956          0.0  0.0     0.0      0.0      ...                   0.0   \n7624           0.0  0.0     0.0      0.0      ...                   0.0   \n5487           0.0  0.0     0.0      0.0      ...                   0.0   \n4192           0.0  0.0     0.0      0.0      ...                   0.0   \n11175          0.0  0.0     0.0      0.0      ...                   0.0   \n13124          0.0  0.0     0.0      0.0      ...                   0.0   \n5474           0.0  0.0     0.0      0.0      ...                   0.0   \n7975           0.0  0.0     0.0      0.0      ...                   0.0   \n9500           0.0  0.0     0.0      0.0      ...                   0.0   \n2830           0.0  0.0     0.0      0.0      ...                   0.0   \n14890          0.0  0.0     0.0      0.0      ...                   0.0   \n7226           0.0  0.0     0.0      0.0      ...                   0.0   \n4071           0.0  0.0     0.0      0.0      ...                   0.0   \n4100           0.0  0.0     0.0      0.0      ...                   0.0   \n7414           0.0  0.0     0.0      0.0      ...                   0.0   \n9002           0.0  0.0     0.0      0.0      ...                   1.0   \n\n       ('a', 'more')  ('for', 'over')  ('to', '.')  ('light', ',')  \\\n7723             0.0              0.0          0.0             0.0   \n14424            0.0              0.0          0.0             0.0   \n972              0.0              0.0          0.0             0.0   \n377              0.0              0.0          0.0             0.0   \n2895             0.0              0.0          0.0             0.0   \n3220             0.0              0.0          0.0             0.0   \n11581            0.0              0.0          0.0             0.0   \n1080             0.0              0.0          0.0             0.0   \n7002             0.0              0.0          0.0             0.0   \n6871             0.0              0.0          0.0             0.0   \n10930            0.0              1.0          0.0             0.0   \n11101            0.0              0.0          0.0             0.0   \n7907             0.0              0.0          0.0             0.0   \n5025             0.0              0.0          0.0             0.0   \n13715            0.0              0.0          0.0             0.0   \n7324             0.0              0.0          0.0             0.0   \n7851             0.0              0.0          0.0             0.0   \n5373             0.0              0.0          0.0             0.0   \n12244            0.0              0.0          0.0             0.0   \n13110            0.0              0.0          0.0             0.0   \n14300            0.0              0.0          0.0             0.0   \n11748            0.0              0.0          0.0             0.0   \n4091             0.0              0.0          0.0             0.0   \n9931             0.0              0.0          0.0             0.0   \n1300             0.0              0.0          0.0             0.0   \n5694             0.0              0.0          0.0             0.0   \n9593             0.0              0.0          0.0             0.0   \n14975            0.0              0.0          0.0             0.0   \n4508             0.0              0.0          0.0             0.0   \n6114             0.0              0.0          0.0             0.0   \n...              ...              ...          ...             ...   \n8215             0.0              0.0          0.0             0.0   \n4548             0.0              0.0          0.0             0.0   \n169              0.0              0.0          0.0             0.0   \n4309             0.0              0.0          0.0             0.0   \n1568             0.0              0.0          0.0             0.0   \n12882            0.0              0.0          0.0             0.0   \n11370            0.0              0.0          0.0             0.0   \n1034             0.0              0.0          0.0             0.0   \n8834             0.0              0.0          0.0             0.0   \n8970             0.0              0.0          0.0             0.0   \n3850             0.0              0.0          0.0             0.0   \n9268             0.0              0.0          0.0             0.0   \n13170            0.0              0.0          0.0             1.0   \n8157             0.0              0.0          0.0             0.0   \n12956            0.0              0.0          0.0             0.0   \n7624             0.0              0.0          0.0             0.0   \n5487             0.0              0.0          0.0             0.0   \n4192             0.0              0.0          0.0             0.0   \n11175            0.0              0.0          0.0             0.0   \n13124            0.0              0.0          0.0             0.0   \n5474             0.0              0.0          0.0             0.0   \n7975             0.0              0.0          0.0             0.0   \n9500             0.0              0.0          0.0             0.0   \n2830             0.0              0.0          0.0             0.0   \n14890            0.0              0.0          0.0             0.0   \n7226             0.0              0.0          0.0             0.0   \n4071             0.0              0.0          0.0             0.0   \n4100             0.0              0.0          0.0             0.0   \n7414             0.0              0.0          0.0             0.0   \n9002             0.0              0.0          0.0             0.0   \n\n       ('and', 'all')  ('love', 'this')  ('a', 'must')  ('my', 'lens')  \\\n7723              0.0               0.0            0.0             0.0   \n14424             0.0               0.0            0.0             0.0   \n972               0.0               0.0            0.0             0.0   \n377               0.0               0.0            0.0             0.0   \n2895              0.0               0.0            0.0             0.0   \n3220              0.0               0.0            0.0             0.0   \n11581             0.0               0.0            0.0             0.0   \n1080              0.0               0.0            0.0             0.0   \n7002              0.0               0.0            0.0             0.0   \n6871              0.0               0.0            0.0             0.0   \n10930             0.0               0.0            0.0             0.0   \n11101             0.0               0.0            0.0             0.0   \n7907              0.0               0.0            0.0             0.0   \n5025              0.0               0.0            0.0             0.0   \n13715             0.0               0.0            0.0             0.0   \n7324              0.0               0.0            0.0             0.0   \n7851              0.0               0.0            0.0             0.0   \n5373              0.0               0.0            0.0             0.0   \n12244             0.0               0.0            0.0             0.0   \n13110             0.0               0.0            0.0             0.0   \n14300             0.0               0.0            0.0             0.0   \n11748             0.0               0.0            0.0             0.0   \n4091              0.0               0.0            0.0             0.0   \n9931              0.0               0.0            0.0             0.0   \n1300              0.0               0.0            0.0             0.0   \n5694              0.0               0.0            0.0             0.0   \n9593              0.0               0.0            0.0             0.0   \n14975             0.0               0.0            0.0             0.0   \n4508              0.0               0.0            0.0             0.0   \n6114              0.0               0.0            0.0             0.0   \n...               ...               ...            ...             ...   \n8215              0.0               0.0            0.0             0.0   \n4548              0.0               0.0            0.0             0.0   \n169               0.0               0.0            0.0             0.0   \n4309              0.0               1.0            0.0             0.0   \n1568              0.0               0.0            0.0             0.0   \n12882             0.0               0.0            0.0             0.0   \n11370             0.0               0.0            0.0             0.0   \n1034              0.0               0.0            0.0             0.0   \n8834              0.0               0.0            0.0             0.0   \n8970              1.0               0.0            0.0             0.0   \n3850              0.0               0.0            0.0             0.0   \n9268              0.0               0.0            0.0             0.0   \n13170             0.0               0.0            0.0             0.0   \n8157              0.0               0.0            0.0             0.0   \n12956             0.0               0.0            0.0             0.0   \n7624              0.0               0.0            0.0             0.0   \n5487              0.0               0.0            0.0             0.0   \n4192              0.0               0.0            0.0             0.0   \n11175             0.0               0.0            0.0             0.0   \n13124             0.0               0.0            0.0             0.0   \n5474              0.0               0.0            0.0             0.0   \n7975              0.0               0.0            0.0             0.0   \n9500              0.0               0.0            0.0             0.0   \n2830              0.0               0.0            0.0             0.0   \n14890             0.0               0.0            0.0             0.0   \n7226              0.0               0.0            0.0             0.0   \n4071              0.0               0.0            0.0             0.0   \n4100              0.0               0.0            0.0             0.0   \n7414              0.0               0.0            0.0             0.0   \n9002              0.0               0.0            0.0             0.0   \n\n       ('got', 'it')  \n7723             0.0  \n14424            0.0  \n972              0.0  \n377              0.0  \n2895             0.0  \n3220             0.0  \n11581            0.0  \n1080             0.0  \n7002             0.0  \n6871             0.0  \n10930            0.0  \n11101            0.0  \n7907             0.0  \n5025             0.0  \n13715            0.0  \n7324             0.0  \n7851             0.0  \n5373             0.0  \n12244            0.0  \n13110            0.0  \n14300            0.0  \n11748            0.0  \n4091             0.0  \n9931             0.0  \n1300             0.0  \n5694             0.0  \n9593             0.0  \n14975            0.0  \n4508             1.0  \n6114             0.0  \n...              ...  \n8215             0.0  \n4548             0.0  \n169              0.0  \n4309             0.0  \n1568             0.0  \n12882            0.0  \n11370            0.0  \n1034             0.0  \n8834             0.0  \n8970             0.0  \n3850             0.0  \n9268             0.0  \n13170            0.0  \n8157             0.0  \n12956            0.0  \n7624             0.0  \n5487             0.0  \n4192             0.0  \n11175            0.0  \n13124            0.0  \n5474             0.0  \n7975             0.0  \n9500             0.0  \n2830             0.0  \n14890            0.0  \n7226             0.0  \n4071             0.0  \n4100             0.0  \n7414             0.0  \n9002             0.0  \n\n[8987 rows x 3043 columns]",
     "traceback": [
      "\u001b[0;31m---------------------------------------------------------------------------\u001b[0m",
      "\u001b[0;31mTypeError\u001b[0m                                 Traceback (most recent call last)",
      "\u001b[0;32m<ipython-input-292-15780aa07245>\u001b[0m in \u001b[0;36m<module>\u001b[0;34m()\u001b[0m\n\u001b[1;32m      4\u001b[0m               {'clf__n_estimators': [2**i for i in range(5)], 'clf__criterion':['entropy']}]\n\u001b[1;32m      5\u001b[0m \u001b[0mgs\u001b[0m \u001b[1;33m=\u001b[0m \u001b[0mGridSearchCV\u001b[0m\u001b[1;33m(\u001b[0m\u001b[0mestimator\u001b[0m\u001b[1;33m=\u001b[0m\u001b[0mforest_pipe\u001b[0m\u001b[1;33m,\u001b[0m \u001b[0mparam_grid\u001b[0m\u001b[1;33m=\u001b[0m\u001b[0mparam_grid\u001b[0m\u001b[1;33m,\u001b[0m \u001b[0mscoring\u001b[0m\u001b[1;33m=\u001b[0m\u001b[1;34m'accuracy'\u001b[0m\u001b[1;33m,\u001b[0m \u001b[0mcv\u001b[0m\u001b[1;33m=\u001b[0m\u001b[1;36m10\u001b[0m\u001b[1;33m,\u001b[0m \u001b[0mn_jobs\u001b[0m \u001b[1;33m=\u001b[0m \u001b[1;33m-\u001b[0m\u001b[1;36m1\u001b[0m\u001b[1;33m)\u001b[0m\u001b[1;33m\u001b[0m\u001b[0m\n\u001b[0;32m----> 6\u001b[0;31m \u001b[0mgs\u001b[0m\u001b[1;33m.\u001b[0m\u001b[0mfit\u001b[0m\u001b[1;33m(\u001b[0m\u001b[0m_X_train\u001b[0m\u001b[1;33m,\u001b[0m \u001b[0m_y_train\u001b[0m\u001b[1;33m)\u001b[0m\u001b[1;33m\u001b[0m\u001b[0m\n\u001b[0m\u001b[1;32m      7\u001b[0m \u001b[0mprint\u001b[0m\u001b[1;33m(\u001b[0m\u001b[0mgs\u001b[0m\u001b[1;33m.\u001b[0m\u001b[0mbest_score_\u001b[0m\u001b[1;33m)\u001b[0m\u001b[1;33m\u001b[0m\u001b[0m\n\u001b[1;32m      8\u001b[0m \u001b[0mprint\u001b[0m\u001b[1;33m(\u001b[0m\u001b[0mgs\u001b[0m\u001b[1;33m.\u001b[0m\u001b[0mbest_params_\u001b[0m\u001b[1;33m)\u001b[0m\u001b[1;33m\u001b[0m\u001b[0m\n",
      "\u001b[0;32mC:\\Users\\johannes\\Anaconda3\\lib\\site-packages\\sklearn\\model_selection\\_search.py\u001b[0m in \u001b[0;36mfit\u001b[0;34m(self, X, y, groups)\u001b[0m\n\u001b[1;32m    943\u001b[0m             \u001b[0mtrain\u001b[0m\u001b[1;33m/\u001b[0m\u001b[0mtest\u001b[0m \u001b[0mset\u001b[0m\u001b[1;33m.\u001b[0m\u001b[1;33m\u001b[0m\u001b[0m\n\u001b[1;32m    944\u001b[0m         \"\"\"\n\u001b[0;32m--> 945\u001b[0;31m         \u001b[1;32mreturn\u001b[0m \u001b[0mself\u001b[0m\u001b[1;33m.\u001b[0m\u001b[0m_fit\u001b[0m\u001b[1;33m(\u001b[0m\u001b[0mX\u001b[0m\u001b[1;33m,\u001b[0m \u001b[0my\u001b[0m\u001b[1;33m,\u001b[0m \u001b[0mgroups\u001b[0m\u001b[1;33m,\u001b[0m \u001b[0mParameterGrid\u001b[0m\u001b[1;33m(\u001b[0m\u001b[0mself\u001b[0m\u001b[1;33m.\u001b[0m\u001b[0mparam_grid\u001b[0m\u001b[1;33m)\u001b[0m\u001b[1;33m)\u001b[0m\u001b[1;33m\u001b[0m\u001b[0m\n\u001b[0m\u001b[1;32m    946\u001b[0m \u001b[1;33m\u001b[0m\u001b[0m\n\u001b[1;32m    947\u001b[0m \u001b[1;33m\u001b[0m\u001b[0m\n",
      "\u001b[0;32mC:\\Users\\johannes\\Anaconda3\\lib\\site-packages\\sklearn\\model_selection\\_search.py\u001b[0m in \u001b[0;36m_fit\u001b[0;34m(self, X, y, groups, parameter_iterable)\u001b[0m\n\u001b[1;32m    540\u001b[0m         \u001b[0mself\u001b[0m\u001b[1;33m.\u001b[0m\u001b[0mscorer_\u001b[0m \u001b[1;33m=\u001b[0m \u001b[0mcheck_scoring\u001b[0m\u001b[1;33m(\u001b[0m\u001b[0mself\u001b[0m\u001b[1;33m.\u001b[0m\u001b[0mestimator\u001b[0m\u001b[1;33m,\u001b[0m \u001b[0mscoring\u001b[0m\u001b[1;33m=\u001b[0m\u001b[0mself\u001b[0m\u001b[1;33m.\u001b[0m\u001b[0mscoring\u001b[0m\u001b[1;33m)\u001b[0m\u001b[1;33m\u001b[0m\u001b[0m\n\u001b[1;32m    541\u001b[0m \u001b[1;33m\u001b[0m\u001b[0m\n\u001b[0;32m--> 542\u001b[0;31m         \u001b[0mX\u001b[0m\u001b[1;33m,\u001b[0m \u001b[0my\u001b[0m\u001b[1;33m,\u001b[0m \u001b[0mgroups\u001b[0m \u001b[1;33m=\u001b[0m \u001b[0mindexable\u001b[0m\u001b[1;33m(\u001b[0m\u001b[0mX\u001b[0m\u001b[1;33m,\u001b[0m \u001b[0my\u001b[0m\u001b[1;33m,\u001b[0m \u001b[0mgroups\u001b[0m\u001b[1;33m)\u001b[0m\u001b[1;33m\u001b[0m\u001b[0m\n\u001b[0m\u001b[1;32m    543\u001b[0m         \u001b[0mn_splits\u001b[0m \u001b[1;33m=\u001b[0m \u001b[0mcv\u001b[0m\u001b[1;33m.\u001b[0m\u001b[0mget_n_splits\u001b[0m\u001b[1;33m(\u001b[0m\u001b[0mX\u001b[0m\u001b[1;33m,\u001b[0m \u001b[0my\u001b[0m\u001b[1;33m,\u001b[0m \u001b[0mgroups\u001b[0m\u001b[1;33m)\u001b[0m\u001b[1;33m\u001b[0m\u001b[0m\n\u001b[1;32m    544\u001b[0m         \u001b[1;32mif\u001b[0m \u001b[0mself\u001b[0m\u001b[1;33m.\u001b[0m\u001b[0mverbose\u001b[0m \u001b[1;33m>\u001b[0m \u001b[1;36m0\u001b[0m \u001b[1;32mand\u001b[0m \u001b[0misinstance\u001b[0m\u001b[1;33m(\u001b[0m\u001b[0mparameter_iterable\u001b[0m\u001b[1;33m,\u001b[0m \u001b[0mSized\u001b[0m\u001b[1;33m)\u001b[0m\u001b[1;33m:\u001b[0m\u001b[1;33m\u001b[0m\u001b[0m\n",
      "\u001b[0;32mC:\\Users\\johannes\\Anaconda3\\lib\\site-packages\\sklearn\\utils\\validation.py\u001b[0m in \u001b[0;36mindexable\u001b[0;34m(*iterables)\u001b[0m\n\u001b[1;32m    204\u001b[0m         \u001b[1;32melse\u001b[0m\u001b[1;33m:\u001b[0m\u001b[1;33m\u001b[0m\u001b[0m\n\u001b[1;32m    205\u001b[0m             \u001b[0mresult\u001b[0m\u001b[1;33m.\u001b[0m\u001b[0mappend\u001b[0m\u001b[1;33m(\u001b[0m\u001b[0mnp\u001b[0m\u001b[1;33m.\u001b[0m\u001b[0marray\u001b[0m\u001b[1;33m(\u001b[0m\u001b[0mX\u001b[0m\u001b[1;33m)\u001b[0m\u001b[1;33m)\u001b[0m\u001b[1;33m\u001b[0m\u001b[0m\n\u001b[0;32m--> 206\u001b[0;31m     \u001b[0mcheck_consistent_length\u001b[0m\u001b[1;33m(\u001b[0m\u001b[1;33m*\u001b[0m\u001b[0mresult\u001b[0m\u001b[1;33m)\u001b[0m\u001b[1;33m\u001b[0m\u001b[0m\n\u001b[0m\u001b[1;32m    207\u001b[0m     \u001b[1;32mreturn\u001b[0m \u001b[0mresult\u001b[0m\u001b[1;33m\u001b[0m\u001b[0m\n\u001b[1;32m    208\u001b[0m \u001b[1;33m\u001b[0m\u001b[0m\n",
      "\u001b[0;32mC:\\Users\\johannes\\Anaconda3\\lib\\site-packages\\sklearn\\utils\\validation.py\u001b[0m in \u001b[0;36mcheck_consistent_length\u001b[0;34m(*arrays)\u001b[0m\n\u001b[1;32m    175\u001b[0m     \"\"\"\n\u001b[1;32m    176\u001b[0m \u001b[1;33m\u001b[0m\u001b[0m\n\u001b[0;32m--> 177\u001b[0;31m     \u001b[0mlengths\u001b[0m \u001b[1;33m=\u001b[0m \u001b[1;33m[\u001b[0m\u001b[0m_num_samples\u001b[0m\u001b[1;33m(\u001b[0m\u001b[0mX\u001b[0m\u001b[1;33m)\u001b[0m \u001b[1;32mfor\u001b[0m \u001b[0mX\u001b[0m \u001b[1;32min\u001b[0m \u001b[0marrays\u001b[0m \u001b[1;32mif\u001b[0m \u001b[0mX\u001b[0m \u001b[1;32mis\u001b[0m \u001b[1;32mnot\u001b[0m \u001b[1;32mNone\u001b[0m\u001b[1;33m]\u001b[0m\u001b[1;33m\u001b[0m\u001b[0m\n\u001b[0m\u001b[1;32m    178\u001b[0m     \u001b[0muniques\u001b[0m \u001b[1;33m=\u001b[0m \u001b[0mnp\u001b[0m\u001b[1;33m.\u001b[0m\u001b[0munique\u001b[0m\u001b[1;33m(\u001b[0m\u001b[0mlengths\u001b[0m\u001b[1;33m)\u001b[0m\u001b[1;33m\u001b[0m\u001b[0m\n\u001b[1;32m    179\u001b[0m     \u001b[1;32mif\u001b[0m \u001b[0mlen\u001b[0m\u001b[1;33m(\u001b[0m\u001b[0muniques\u001b[0m\u001b[1;33m)\u001b[0m \u001b[1;33m>\u001b[0m \u001b[1;36m1\u001b[0m\u001b[1;33m:\u001b[0m\u001b[1;33m\u001b[0m\u001b[0m\n",
      "\u001b[0;32mC:\\Users\\johannes\\Anaconda3\\lib\\site-packages\\sklearn\\utils\\validation.py\u001b[0m in \u001b[0;36m<listcomp>\u001b[0;34m(.0)\u001b[0m\n\u001b[1;32m    175\u001b[0m     \"\"\"\n\u001b[1;32m    176\u001b[0m \u001b[1;33m\u001b[0m\u001b[0m\n\u001b[0;32m--> 177\u001b[0;31m     \u001b[0mlengths\u001b[0m \u001b[1;33m=\u001b[0m \u001b[1;33m[\u001b[0m\u001b[0m_num_samples\u001b[0m\u001b[1;33m(\u001b[0m\u001b[0mX\u001b[0m\u001b[1;33m)\u001b[0m \u001b[1;32mfor\u001b[0m \u001b[0mX\u001b[0m \u001b[1;32min\u001b[0m \u001b[0marrays\u001b[0m \u001b[1;32mif\u001b[0m \u001b[0mX\u001b[0m \u001b[1;32mis\u001b[0m \u001b[1;32mnot\u001b[0m \u001b[1;32mNone\u001b[0m\u001b[1;33m]\u001b[0m\u001b[1;33m\u001b[0m\u001b[0m\n\u001b[0m\u001b[1;32m    178\u001b[0m     \u001b[0muniques\u001b[0m \u001b[1;33m=\u001b[0m \u001b[0mnp\u001b[0m\u001b[1;33m.\u001b[0m\u001b[0munique\u001b[0m\u001b[1;33m(\u001b[0m\u001b[0mlengths\u001b[0m\u001b[1;33m)\u001b[0m\u001b[1;33m\u001b[0m\u001b[0m\n\u001b[1;32m    179\u001b[0m     \u001b[1;32mif\u001b[0m \u001b[0mlen\u001b[0m\u001b[1;33m(\u001b[0m\u001b[0muniques\u001b[0m\u001b[1;33m)\u001b[0m \u001b[1;33m>\u001b[0m \u001b[1;36m1\u001b[0m\u001b[1;33m:\u001b[0m\u001b[1;33m\u001b[0m\u001b[0m\n",
      "\u001b[0;32mC:\\Users\\johannes\\Anaconda3\\lib\\site-packages\\sklearn\\utils\\validation.py\u001b[0m in \u001b[0;36m_num_samples\u001b[0;34m(x)\u001b[0m\n\u001b[1;32m    114\u001b[0m         \u001b[1;31m# Don't get num_samples from an ensembles length!\u001b[0m\u001b[1;33m\u001b[0m\u001b[1;33m\u001b[0m\u001b[0m\n\u001b[1;32m    115\u001b[0m         raise TypeError('Expected sequence or array-like, got '\n\u001b[0;32m--> 116\u001b[0;31m                         'estimator %s' % x)\n\u001b[0m\u001b[1;32m    117\u001b[0m     \u001b[1;32mif\u001b[0m \u001b[1;32mnot\u001b[0m \u001b[0mhasattr\u001b[0m\u001b[1;33m(\u001b[0m\u001b[0mx\u001b[0m\u001b[1;33m,\u001b[0m \u001b[1;34m'__len__'\u001b[0m\u001b[1;33m)\u001b[0m \u001b[1;32mand\u001b[0m \u001b[1;32mnot\u001b[0m \u001b[0mhasattr\u001b[0m\u001b[1;33m(\u001b[0m\u001b[0mx\u001b[0m\u001b[1;33m,\u001b[0m \u001b[1;34m'shape'\u001b[0m\u001b[1;33m)\u001b[0m\u001b[1;33m:\u001b[0m\u001b[1;33m\u001b[0m\u001b[0m\n\u001b[1;32m    118\u001b[0m         \u001b[1;32mif\u001b[0m \u001b[0mhasattr\u001b[0m\u001b[1;33m(\u001b[0m\u001b[0mx\u001b[0m\u001b[1;33m,\u001b[0m \u001b[1;34m'__array__'\u001b[0m\u001b[1;33m)\u001b[0m\u001b[1;33m:\u001b[0m\u001b[1;33m\u001b[0m\u001b[0m\n",
      "\u001b[0;31mTypeError\u001b[0m: Expected sequence or array-like, got estimator        considerably  communicate  fixed  ideal  invested  distort  \\\n7723            0.0          0.0    0.0    0.0       0.0      0.0   \n14424           0.0          0.0    0.0    0.0       0.0      0.0   \n972             0.0          0.0    0.0    0.0       0.0      0.0   \n377             0.0          0.0    0.0    0.0       0.0      0.0   \n2895            0.0          0.0    0.0    0.0       0.0      0.0   \n3220            0.0          0.0    0.0    0.0       0.0      0.0   \n11581           0.0          0.0    0.0    0.0       0.0      0.0   \n1080            0.0          0.0    0.0    0.0       0.0      0.0   \n7002            0.0          0.0    0.0    0.0       0.0      0.0   \n6871            0.0          0.0    0.0    0.0       0.0      0.0   \n10930           0.0          0.0    0.0    0.0       0.0      0.0   \n11101           0.0          0.0    0.0    0.0       0.0      0.0   \n7907            0.0          0.0    0.0    0.0       0.0      0.0   \n5025            0.0          0.0    0.0    0.0       0.0      0.0   \n13715           0.0          0.0    0.0    0.0       0.0      0.0   \n7324            0.0          0.0    0.0    0.0       0.0      0.0   \n7851            0.0          0.0    0.0    0.0       0.0      0.0   \n5373            0.0          0.0    0.0    0.0       0.0      0.0   \n12244           0.0          0.0    0.0    0.0       0.0      0.0   \n13110           0.0          0.0    0.0    0.0       0.0      0.0   \n14300           0.0          0.0    0.0    0.0       0.0      0.0   \n11748           0.0          0.0    0.0    0.0       0.0      0.0   \n4091            0.0          0.0    0.0    0.0       0.0      0.0   \n9931            0.0          0.0    0.0    0.0       0.0      0.0   \n1300            0.0          0.0    0.0    0.0       0.0      0.0   \n5694            0.0          0.0    0.0    0.0       0.0      0.0   \n9593            0.0          0.0    0.0    0.0       0.0      0.0   \n14975           0.0          0.0    0.0    0.0       0.0      0.0   \n4508            0.0          0.0    0.0    0.0       0.0      0.0   \n6114            0.0          0.0    0.0    0.0       0.0      0.0   \n...             ...          ...    ...    ...       ...      ...   \n8215            0.0          0.0    0.0    0.0       0.0      0.0   \n4548            0.0          0.0    0.0    0.0       0.0      0.0   \n169             0.0          0.0    0.0    0.0       0.0      0.0   \n4309            0.0          0.0    0.0    0.0       0.0      0.0   \n1568            0.0          0.0    0.0    0.0       0.0      0.0   \n12882           0.0          0.0    0.0    0.0       0.0      0.0   \n11370           0.0          0.0    0.0    0.0       0.0      0.0   \n1034            0.0          0.0    0.0    0.0       0.0      0.0   \n8834            0.0          0.0    0.0    0.0       0.0      0.0   \n8970            0.0          0.0    0.0    0.0       0.0      0.0   \n3850            0.0          0.0    0.0    0.0       0.0      0.0   \n9268            0.0          0.0    0.0    0.0       0.0      0.0   \n13170           0.0          0.0    0.0    0.0       0.0      0.0   \n8157            0.0          0.0    0.0    0.0       0.0      0.0   \n12956           0.0          0.0    0.0    0.0       0.0      0.0   \n7624            0.0          0.0    0.0    0.0       0.0      0.0   \n5487            0.0          0.0    0.0    0.0       0.0      0.0   \n4192            0.0          0.0    0.0    0.0       0.0      0.0   \n11175           0.0          0.0    0.0    0.0       0.0      0.0   \n13124           0.0          0.0    0.0    0.0       0.0      0.0   \n5474            0.0          0.0    0.0    0.0       0.0      0.0   \n7975            0.0          0.0    0.0    0.0       0.0      0.0   \n9500            0.0          0.0    0.0    0.0       0.0      0.0   \n2830            0.0          0.0    0.0    0.0       0.0      0.0   \n14890           0.0          0.0    0.0    0.0       0.0      0.0   \n7226            0.0          0.0    0.0    0.0       0.0      0.0   \n4071            0.0          0.0    0.0    0.0       0.0      0.0   \n4100            0.0          0.0    0.0    0.0       0.0      0.0   \n7414            0.0          0.0    0.0    0.0       0.0      0.0   \n9002            0.0          0.0    0.0    0.0       0.0      0.0   \n\n       perspective  rom  counts  recycle      ...        ('my', 'head')  \\\n7723           0.0  0.0     0.0      0.0      ...                   0.0   \n14424          0.0  0.0     0.0      0.0      ...                   0.0   \n972            0.0  0.0     0.0      0.0      ...                   0.0   \n377            0.0  0.0     0.0      0.0      ...                   0.0   \n2895           0.0  0.0     0.0      0.0      ...                   0.0   \n3220           0.0  0.0     0.0      0.0      ...                   0.0   \n11581          0.0  0.0     0.0      0.0      ...                   0.0   \n1080           0.0  0.0     0.0      0.0      ...                   0.0   \n7002           0.0  0.0     0.0      0.0      ...                   0.0   \n6871           0.0  0.0     0.0      0.0      ...                   0.0   \n10930          0.0  0.0     0.0      0.0      ...                   0.0   \n11101          0.0  0.0     0.0      0.0      ...                   0.0   \n7907           0.0  0.0     0.0      0.0      ...                   0.0   \n5025           0.0  0.0     0.0      0.0      ...                   0.0   \n13715          0.0  0.0     0.0      0.0      ...                   0.0   \n7324           0.0  0.0     0.0      0.0      ...                   0.0   \n7851           0.0  0.0     0.0      0.0      ...                   0.0   \n5373           0.0  0.0     0.0      0.0      ...                   0.0   \n12244          0.0  0.0     0.0      0.0      ...                   0.0   \n13110          0.0  0.0     0.0      0.0      ...                   0.0   \n14300          0.0  0.0     0.0      0.0      ...                   0.0   \n11748          0.0  0.0     0.0      0.0      ...                   0.0   \n4091           0.0  0.0     0.0      0.0      ...                   0.0   \n9931           0.0  0.0     0.0      0.0      ...                   0.0   \n1300           0.0  0.0     0.0      0.0      ...                   0.0   \n5694           0.0  0.0     0.0      0.0      ...                   0.0   \n9593           0.0  0.0     0.0      0.0      ...                   0.0   \n14975          0.0  0.0     0.0      0.0      ...                   0.0   \n4508           0.0  0.0     0.0      0.0      ...                   0.0   \n6114           0.0  0.0     0.0      0.0      ...                   0.0   \n...            ...  ...     ...      ...      ...                   ...   \n8215           0.0  0.0     0.0      0.0      ...                   0.0   \n4548           0.0  0.0     0.0      0.0      ...                   0.0   \n169            0.0  0.0     0.0      0.0      ...                   0.0   \n4309           0.0  0.0     0.0      0.0      ...                   0.0   \n1568           0.0  0.0     0.0      0.0      ...                   0.0   \n12882          0.0  0.0     0.0      0.0      ...                   0.0   \n11370          0.0  0.0     0.0      0.0      ...                   0.0   \n1034           0.0  0.0     0.0      0.0      ...                   0.0   \n8834           0.0  0.0     0.0      0.0      ...                   0.0   \n8970           0.0  0.0     0.0      0.0      ...                   0.0   \n3850           0.0  0.0     0.0      0.0      ...                   0.0   \n9268           0.0  0.0     0.0      0.0      ...                   0.0   \n13170          0.0  0.0     0.0      0.0      ...                   0.0   \n8157           0.0  0.0     0.0      0.0      ...                   0.0   \n12956          0.0  0.0     0.0      0.0      ...                   0.0   \n7624           0.0  0.0     0.0      0.0      ...                   0.0   \n5487           0.0  0.0     0.0      0.0      ...                   0.0   \n4192           0.0  0.0     0.0      0.0      ...                   0.0   \n11175          0.0  0.0     0.0      0.0      ...                   0.0   \n13124          0.0  0.0     0.0      0.0      ...                   0.0   \n5474           0.0  0.0     0.0      0.0      ...                   0.0   \n7975           0.0  0.0     0.0      0.0      ...                   0.0   \n9500           0.0  0.0     0.0      0.0      ...                   0.0   \n2830           0.0  0.0     0.0      0.0      ...                   0.0   \n14890          0.0  0.0     0.0      0.0      ...                   0.0   \n7226           0.0  0.0     0.0      0.0      ...                   0.0   \n4071           0.0  0.0     0.0      0.0      ...                   0.0   \n4100           0.0  0.0     0.0      0.0      ...                   0.0   \n7414           0.0  0.0     0.0      0.0      ...                   0.0   \n9002           0.0  0.0     0.0      0.0      ...                   1.0   \n\n       ('a', 'more')  ('for', 'over')  ('to', '.')  ('light', ',')  \\\n7723             0.0              0.0          0.0             0.0   \n14424            0.0              0.0          0.0             0.0   \n972              0.0              0.0          0.0             0.0   \n377              0.0              0.0          0.0             0.0   \n2895             0.0              0.0          0.0             0.0   \n3220             0.0              0.0          0.0             0.0   \n11581            0.0              0.0          0.0             0.0   \n1080             0.0              0.0          0.0             0.0   \n7002             0.0              0.0          0.0             0.0   \n6871             0.0              0.0          0.0             0.0   \n10930            0.0              1.0          0.0             0.0   \n11101            0.0              0.0          0.0             0.0   \n7907             0.0              0.0          0.0             0.0   \n5025             0.0              0.0          0.0             0.0   \n13715            0.0              0.0          0.0             0.0   \n7324             0.0              0.0          0.0             0.0   \n7851             0.0              0.0          0.0             0.0   \n5373             0.0              0.0          0.0             0.0   \n12244            0.0              0.0          0.0             0.0   \n13110            0.0              0.0          0.0             0.0   \n14300            0.0              0.0          0.0             0.0   \n11748            0.0              0.0          0.0             0.0   \n4091             0.0              0.0          0.0             0.0   \n9931             0.0              0.0          0.0             0.0   \n1300             0.0              0.0          0.0             0.0   \n5694             0.0              0.0          0.0             0.0   \n9593             0.0              0.0          0.0             0.0   \n14975            0.0              0.0          0.0             0.0   \n4508             0.0              0.0          0.0             0.0   \n6114             0.0              0.0          0.0             0.0   \n...              ...              ...          ...             ...   \n8215             0.0              0.0          0.0             0.0   \n4548             0.0              0.0          0.0             0.0   \n169              0.0              0.0          0.0             0.0   \n4309             0.0              0.0          0.0             0.0   \n1568             0.0              0.0          0.0             0.0   \n12882            0.0              0.0          0.0             0.0   \n11370            0.0              0.0          0.0             0.0   \n1034             0.0              0.0          0.0             0.0   \n8834             0.0              0.0          0.0             0.0   \n8970             0.0              0.0          0.0             0.0   \n3850             0.0              0.0          0.0             0.0   \n9268             0.0              0.0          0.0             0.0   \n13170            0.0              0.0          0.0             1.0   \n8157             0.0              0.0          0.0             0.0   \n12956            0.0              0.0          0.0             0.0   \n7624             0.0              0.0          0.0             0.0   \n5487             0.0              0.0          0.0             0.0   \n4192             0.0              0.0          0.0             0.0   \n11175            0.0              0.0          0.0             0.0   \n13124            0.0              0.0          0.0             0.0   \n5474             0.0              0.0          0.0             0.0   \n7975             0.0              0.0          0.0             0.0   \n9500             0.0              0.0          0.0             0.0   \n2830             0.0              0.0          0.0             0.0   \n14890            0.0              0.0          0.0             0.0   \n7226             0.0              0.0          0.0             0.0   \n4071             0.0              0.0          0.0             0.0   \n4100             0.0              0.0          0.0             0.0   \n7414             0.0              0.0          0.0             0.0   \n9002             0.0              0.0          0.0             0.0   \n\n       ('and', 'all')  ('love', 'this')  ('a', 'must')  ('my', 'lens')  \\\n7723              0.0               0.0            0.0             0.0   \n14424             0.0               0.0            0.0             0.0   \n972               0.0               0.0            0.0             0.0   \n377               0.0               0.0            0.0             0.0   \n2895              0.0               0.0            0.0             0.0   \n3220              0.0               0.0            0.0             0.0   \n11581             0.0               0.0            0.0             0.0   \n1080              0.0               0.0            0.0             0.0   \n7002              0.0               0.0            0.0             0.0   \n6871              0.0               0.0            0.0             0.0   \n10930             0.0               0.0            0.0             0.0   \n11101             0.0               0.0            0.0             0.0   \n7907              0.0               0.0            0.0             0.0   \n5025              0.0               0.0            0.0             0.0   \n13715             0.0               0.0            0.0             0.0   \n7324              0.0               0.0            0.0             0.0   \n7851              0.0               0.0            0.0             0.0   \n5373              0.0               0.0            0.0             0.0   \n12244             0.0               0.0            0.0             0.0   \n13110             0.0               0.0            0.0             0.0   \n14300             0.0               0.0            0.0             0.0   \n11748             0.0               0.0            0.0             0.0   \n4091              0.0               0.0            0.0             0.0   \n9931              0.0               0.0            0.0             0.0   \n1300              0.0               0.0            0.0             0.0   \n5694              0.0               0.0            0.0             0.0   \n9593              0.0               0.0            0.0             0.0   \n14975             0.0               0.0            0.0             0.0   \n4508              0.0               0.0            0.0             0.0   \n6114              0.0               0.0            0.0             0.0   \n...               ...               ...            ...             ...   \n8215              0.0               0.0            0.0             0.0   \n4548              0.0               0.0            0.0             0.0   \n169               0.0               0.0            0.0             0.0   \n4309              0.0               1.0            0.0             0.0   \n1568              0.0               0.0            0.0             0.0   \n12882             0.0               0.0            0.0             0.0   \n11370             0.0               0.0            0.0             0.0   \n1034              0.0               0.0            0.0             0.0   \n8834              0.0               0.0            0.0             0.0   \n8970              1.0               0.0            0.0             0.0   \n3850              0.0               0.0            0.0             0.0   \n9268              0.0               0.0            0.0             0.0   \n13170             0.0               0.0            0.0             0.0   \n8157              0.0               0.0            0.0             0.0   \n12956             0.0               0.0            0.0             0.0   \n7624              0.0               0.0            0.0             0.0   \n5487              0.0               0.0            0.0             0.0   \n4192              0.0               0.0            0.0             0.0   \n11175             0.0               0.0            0.0             0.0   \n13124             0.0               0.0            0.0             0.0   \n5474              0.0               0.0            0.0             0.0   \n7975              0.0               0.0            0.0             0.0   \n9500              0.0               0.0            0.0             0.0   \n2830              0.0               0.0            0.0             0.0   \n14890             0.0               0.0            0.0             0.0   \n7226              0.0               0.0            0.0             0.0   \n4071              0.0               0.0            0.0             0.0   \n4100              0.0               0.0            0.0             0.0   \n7414              0.0               0.0            0.0             0.0   \n9002              0.0               0.0            0.0             0.0   \n\n       ('got', 'it')  \n7723             0.0  \n14424            0.0  \n972              0.0  \n377              0.0  \n2895             0.0  \n3220             0.0  \n11581            0.0  \n1080             0.0  \n7002             0.0  \n6871             0.0  \n10930            0.0  \n11101            0.0  \n7907             0.0  \n5025             0.0  \n13715            0.0  \n7324             0.0  \n7851             0.0  \n5373             0.0  \n12244            0.0  \n13110            0.0  \n14300            0.0  \n11748            0.0  \n4091             0.0  \n9931             0.0  \n1300             0.0  \n5694             0.0  \n9593             0.0  \n14975            0.0  \n4508             1.0  \n6114             0.0  \n...              ...  \n8215             0.0  \n4548             0.0  \n169              0.0  \n4309             0.0  \n1568             0.0  \n12882            0.0  \n11370            0.0  \n1034             0.0  \n8834             0.0  \n8970             0.0  \n3850             0.0  \n9268             0.0  \n13170            0.0  \n8157             0.0  \n12956            0.0  \n7624             0.0  \n5487             0.0  \n4192             0.0  \n11175            0.0  \n13124            0.0  \n5474             0.0  \n7975             0.0  \n9500             0.0  \n2830             0.0  \n14890            0.0  \n7226             0.0  \n4071             0.0  \n4100             0.0  \n7414             0.0  \n9002             0.0  \n\n[8987 rows x 3043 columns]"
     ],
     "output_type": "error"
    }
   ],
   "source": [
    "forest = RandomForestClassifier()\n",
    "forest_pipe = Pipeline([('clf', RandomForestClassifier())])\n",
    "param_grid = [{'clf__n_estimators': [2**i for i in range(5)], 'clf__criterion':['gini']}, \n",
    "              {'clf__n_estimators': [2**i for i in range(5)], 'clf__criterion':['entropy']}]\n",
    "gs = GridSearchCV(estimator=forest_pipe, param_grid=param_grid, scoring='accuracy', cv=10, n_jobs = -1)\n",
    "gs.fit(_X_train, _y_train)\n",
    "print(gs.best_score_)\n",
    "print(gs.best_params_)\n",
    "best_clf = gs.best_estimator_"
   ]
  },
  {
   "cell_type": "code",
   "execution_count": null,
   "metadata": {},
   "outputs": [],
   "source": [
    ""
   ]
  }
 ],
 "metadata": {
  "kernelspec": {
   "display_name": "Python 2",
   "language": "python",
   "name": "python2"
  },
  "language_info": {
   "codemirror_mode": {
    "name": "ipython",
    "version": 2.0
   },
   "file_extension": ".py",
   "mimetype": "text/x-python",
   "name": "python",
   "nbconvert_exporter": "python",
   "pygments_lexer": "ipython2",
   "version": "2.7.6"
  }
 },
 "nbformat": 4,
 "nbformat_minor": 0
}